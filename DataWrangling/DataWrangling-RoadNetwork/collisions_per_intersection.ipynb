{
 "cells": [
  {
   "cell_type": "markdown",
   "metadata": {
    "colab_type": "text",
    "id": "DyE_Yf4GWBQX"
   },
   "source": [
    "## Clean up old intersections file to sum collisions, injuries, and fatalities"
   ]
  },
  {
   "cell_type": "code",
   "execution_count": 4,
   "metadata": {
    "colab": {
     "base_uri": "https://localhost:8080/",
     "height": 317
    },
    "colab_type": "code",
    "executionInfo": {
     "elapsed": 857,
     "status": "error",
     "timestamp": 1556512411857,
     "user": {
      "displayName": "Xiao Jing",
      "photoUrl": "https://lh6.googleusercontent.com/-lOcYZIxC610/AAAAAAAAAAI/AAAAAAAAAA4/yP5_lvSVDaw/s64/photo.jpg",
      "userId": "05817757881962207610"
     },
     "user_tz": 240
    },
    "id": "DkgxneT6WBQa",
    "outputId": "9b59a3bc-5780-422f-ca51-88c506f1829f"
   },
   "outputs": [],
   "source": [
    "import geopandas as gp\n",
    "import numpy as np\n",
    "import pandas as pd"
   ]
  },
  {
   "cell_type": "code",
   "execution_count": 6,
   "metadata": {
    "colab": {},
    "colab_type": "code",
    "id": "mLAh_yQ9WBQi"
   },
   "outputs": [
    {
     "data": {
      "text/html": [
       "<div>\n",
       "<style scoped>\n",
       "    .dataframe tbody tr th:only-of-type {\n",
       "        vertical-align: middle;\n",
       "    }\n",
       "\n",
       "    .dataframe tbody tr th {\n",
       "        vertical-align: top;\n",
       "    }\n",
       "\n",
       "    .dataframe thead th {\n",
       "        text-align: right;\n",
       "    }\n",
       "</style>\n",
       "<table border=\"1\" class=\"dataframe\">\n",
       "  <thead>\n",
       "    <tr style=\"text-align: right;\">\n",
       "      <th></th>\n",
       "      <th>Unnamed: 0</th>\n",
       "      <th>osmid</th>\n",
       "      <th>Total_Injuries</th>\n",
       "      <th>Total_Fatalaties</th>\n",
       "      <th>lon</th>\n",
       "      <th>lat</th>\n",
       "      <th>Num_Collisions</th>\n",
       "    </tr>\n",
       "  </thead>\n",
       "  <tbody>\n",
       "    <tr>\n",
       "      <th>0</th>\n",
       "      <td>0</td>\n",
       "      <td>42860546</td>\n",
       "      <td>0.0</td>\n",
       "      <td>0.0</td>\n",
       "      <td>-73.940452</td>\n",
       "      <td>40.743627</td>\n",
       "      <td>0.0</td>\n",
       "    </tr>\n",
       "    <tr>\n",
       "      <th>1</th>\n",
       "      <td>1</td>\n",
       "      <td>42467330</td>\n",
       "      <td>2.0</td>\n",
       "      <td>0.0</td>\n",
       "      <td>-73.933676</td>\n",
       "      <td>40.655156</td>\n",
       "      <td>2.0</td>\n",
       "    </tr>\n",
       "    <tr>\n",
       "      <th>2</th>\n",
       "      <td>2</td>\n",
       "      <td>42467331</td>\n",
       "      <td>1.0</td>\n",
       "      <td>0.0</td>\n",
       "      <td>-73.932706</td>\n",
       "      <td>40.655216</td>\n",
       "      <td>1.0</td>\n",
       "    </tr>\n",
       "    <tr>\n",
       "      <th>3</th>\n",
       "      <td>3</td>\n",
       "      <td>42467333</td>\n",
       "      <td>1.0</td>\n",
       "      <td>0.0</td>\n",
       "      <td>-73.931772</td>\n",
       "      <td>40.655273</td>\n",
       "      <td>1.0</td>\n",
       "    </tr>\n",
       "    <tr>\n",
       "      <th>4</th>\n",
       "      <td>4</td>\n",
       "      <td>42467334</td>\n",
       "      <td>23.0</td>\n",
       "      <td>0.0</td>\n",
       "      <td>-73.930768</td>\n",
       "      <td>40.655336</td>\n",
       "      <td>23.0</td>\n",
       "    </tr>\n",
       "  </tbody>\n",
       "</table>\n",
       "</div>"
      ],
      "text/plain": [
       "   Unnamed: 0     osmid  Total_Injuries  Total_Fatalaties        lon  \\\n",
       "0           0  42860546             0.0               0.0 -73.940452   \n",
       "1           1  42467330             2.0               0.0 -73.933676   \n",
       "2           2  42467331             1.0               0.0 -73.932706   \n",
       "3           3  42467333             1.0               0.0 -73.931772   \n",
       "4           4  42467334            23.0               0.0 -73.930768   \n",
       "\n",
       "         lat  Num_Collisions  \n",
       "0  40.743627             0.0  \n",
       "1  40.655156             2.0  \n",
       "2  40.655216             1.0  \n",
       "3  40.655273             1.0  \n",
       "4  40.655336            23.0  "
      ]
     },
     "execution_count": 6,
     "metadata": {},
     "output_type": "execute_result"
    }
   ],
   "source": [
    "intersections = pd.read_csv('../osm/osm_w_collisions/nodes/intersection_w_collisions.csv')\n",
    "# intersections.rename(columns={'Num_Collis':'Num_Collisions', 'Num_Injuri': 'Num_Injuries',\n",
    "#                               'Num_Fatali':'Num_Fatalities'}, inplace=True)\n",
    "intersections['Num_Collisions'] = intersections[['Total_Injuries', 'Total_Fatalaties']].apply(np.sum, axis=1)\n",
    "intersections.head()"
   ]
  },
  {
   "cell_type": "code",
   "execution_count": 9,
   "metadata": {},
   "outputs": [
    {
     "data": {
      "text/html": [
       "<div>\n",
       "<style scoped>\n",
       "    .dataframe tbody tr th:only-of-type {\n",
       "        vertical-align: middle;\n",
       "    }\n",
       "\n",
       "    .dataframe tbody tr th {\n",
       "        vertical-align: top;\n",
       "    }\n",
       "\n",
       "    .dataframe thead th {\n",
       "        text-align: right;\n",
       "    }\n",
       "</style>\n",
       "<table border=\"1\" class=\"dataframe\">\n",
       "  <thead>\n",
       "    <tr style=\"text-align: right;\">\n",
       "      <th></th>\n",
       "      <th>Num_Collisions</th>\n",
       "      <th>Total_Injuries</th>\n",
       "      <th>Total_Fatalaties</th>\n",
       "    </tr>\n",
       "  </thead>\n",
       "  <tbody>\n",
       "    <tr>\n",
       "      <th>count</th>\n",
       "      <td>55161.000000</td>\n",
       "      <td>55161.000000</td>\n",
       "      <td>55161.000000</td>\n",
       "    </tr>\n",
       "    <tr>\n",
       "      <th>mean</th>\n",
       "      <td>1.631080</td>\n",
       "      <td>1.610830</td>\n",
       "      <td>0.020250</td>\n",
       "    </tr>\n",
       "    <tr>\n",
       "      <th>std</th>\n",
       "      <td>3.729886</td>\n",
       "      <td>3.690463</td>\n",
       "      <td>0.159562</td>\n",
       "    </tr>\n",
       "    <tr>\n",
       "      <th>min</th>\n",
       "      <td>0.000000</td>\n",
       "      <td>0.000000</td>\n",
       "      <td>0.000000</td>\n",
       "    </tr>\n",
       "    <tr>\n",
       "      <th>25%</th>\n",
       "      <td>0.000000</td>\n",
       "      <td>0.000000</td>\n",
       "      <td>0.000000</td>\n",
       "    </tr>\n",
       "    <tr>\n",
       "      <th>50%</th>\n",
       "      <td>0.000000</td>\n",
       "      <td>0.000000</td>\n",
       "      <td>0.000000</td>\n",
       "    </tr>\n",
       "    <tr>\n",
       "      <th>75%</th>\n",
       "      <td>2.000000</td>\n",
       "      <td>2.000000</td>\n",
       "      <td>0.000000</td>\n",
       "    </tr>\n",
       "    <tr>\n",
       "      <th>max</th>\n",
       "      <td>81.000000</td>\n",
       "      <td>81.000000</td>\n",
       "      <td>6.000000</td>\n",
       "    </tr>\n",
       "  </tbody>\n",
       "</table>\n",
       "</div>"
      ],
      "text/plain": [
       "       Num_Collisions  Total_Injuries  Total_Fatalaties\n",
       "count    55161.000000    55161.000000      55161.000000\n",
       "mean         1.631080        1.610830          0.020250\n",
       "std          3.729886        3.690463          0.159562\n",
       "min          0.000000        0.000000          0.000000\n",
       "25%          0.000000        0.000000          0.000000\n",
       "50%          0.000000        0.000000          0.000000\n",
       "75%          2.000000        2.000000          0.000000\n",
       "max         81.000000       81.000000          6.000000"
      ]
     },
     "execution_count": 9,
     "metadata": {},
     "output_type": "execute_result"
    }
   ],
   "source": [
    "intersections[['Num_Collisions','Total_Injuries', 'Total_Fatalaties']].describe()"
   ]
  },
  {
   "cell_type": "code",
   "execution_count": 10,
   "metadata": {},
   "outputs": [
    {
     "data": {
      "text/plain": [
       "Num_Collisions      89972.0\n",
       "Total_Injuries      88855.0\n",
       "Total_Fatalaties     1117.0\n",
       "dtype: float64"
      ]
     },
     "execution_count": 10,
     "metadata": {},
     "output_type": "execute_result"
    }
   ],
   "source": [
    "intersections[['Num_Collisions','Total_Injuries', 'Total_Fatalaties']].sum()"
   ]
  },
  {
   "cell_type": "code",
   "execution_count": 0,
   "metadata": {
    "colab": {},
    "colab_type": "code",
    "id": "Xg8wzEHcWBQn",
    "outputId": "60d01238-a2c6-42b4-ebdd-f16656fde869"
   },
   "outputs": [
    {
     "data": {
      "text/html": [
       "<div>\n",
       "<style scoped>\n",
       "    .dataframe tbody tr th:only-of-type {\n",
       "        vertical-align: middle;\n",
       "    }\n",
       "\n",
       "    .dataframe tbody tr th {\n",
       "        vertical-align: top;\n",
       "    }\n",
       "\n",
       "    .dataframe thead th {\n",
       "        text-align: right;\n",
       "    }\n",
       "</style>\n",
       "<table border=\"1\" class=\"dataframe\">\n",
       "  <thead>\n",
       "    <tr style=\"text-align: right;\">\n",
       "      <th></th>\n",
       "      <th>NODEID</th>\n",
       "      <th>VIntersect</th>\n",
       "      <th>Num_Collisions</th>\n",
       "      <th>Num_Injuries</th>\n",
       "      <th>Num_Fatalities</th>\n",
       "      <th>NODEID_1</th>\n",
       "      <th>FREQUENCY</th>\n",
       "      <th>SUM_NUMBER</th>\n",
       "      <th>SUM_NUMB_1</th>\n",
       "      <th>FIRST_From</th>\n",
       "      <th>FREQUENCY_</th>\n",
       "      <th>SUM_NUMB_2</th>\n",
       "      <th>SUM_NUMB_3</th>\n",
       "      <th>LAST_To_no</th>\n",
       "      <th>FREQUENCY1</th>\n",
       "      <th>SUM_NUMB_4</th>\n",
       "      <th>SUM_NUMB_5</th>\n",
       "      <th>geometry</th>\n",
       "    </tr>\n",
       "  </thead>\n",
       "  <tbody>\n",
       "    <tr>\n",
       "      <th>0</th>\n",
       "      <td>13</td>\n",
       "      <td>None</td>\n",
       "      <td>0</td>\n",
       "      <td>0</td>\n",
       "      <td>0</td>\n",
       "      <td>0</td>\n",
       "      <td>0</td>\n",
       "      <td>0.0</td>\n",
       "      <td>0.0</td>\n",
       "      <td>0</td>\n",
       "      <td>0</td>\n",
       "      <td>0.0</td>\n",
       "      <td>0.0</td>\n",
       "      <td>0</td>\n",
       "      <td>0</td>\n",
       "      <td>0.0</td>\n",
       "      <td>0.0</td>\n",
       "      <td>POINT (913523.7852251232 123479.0677957535)</td>\n",
       "    </tr>\n",
       "    <tr>\n",
       "      <th>1</th>\n",
       "      <td>14</td>\n",
       "      <td>None</td>\n",
       "      <td>0</td>\n",
       "      <td>0</td>\n",
       "      <td>0</td>\n",
       "      <td>0</td>\n",
       "      <td>0</td>\n",
       "      <td>0.0</td>\n",
       "      <td>0.0</td>\n",
       "      <td>0</td>\n",
       "      <td>0</td>\n",
       "      <td>0.0</td>\n",
       "      <td>0.0</td>\n",
       "      <td>0</td>\n",
       "      <td>0</td>\n",
       "      <td>0.0</td>\n",
       "      <td>0.0</td>\n",
       "      <td>POINT (913553.9593760371 123788.9185403585)</td>\n",
       "    </tr>\n",
       "  </tbody>\n",
       "</table>\n",
       "</div>"
      ],
      "text/plain": [
       "   NODEID VIntersect  Num_Collisions  Num_Injuries  Num_Fatalities  NODEID_1  \\\n",
       "0      13       None               0             0               0         0   \n",
       "1      14       None               0             0               0         0   \n",
       "\n",
       "   FREQUENCY  SUM_NUMBER  SUM_NUMB_1  FIRST_From  FREQUENCY_  SUM_NUMB_2  \\\n",
       "0          0         0.0         0.0           0           0         0.0   \n",
       "1          0         0.0         0.0           0           0         0.0   \n",
       "\n",
       "   SUM_NUMB_3  LAST_To_no  FREQUENCY1  SUM_NUMB_4  SUM_NUMB_5  \\\n",
       "0         0.0           0           0         0.0         0.0   \n",
       "1         0.0           0           0         0.0         0.0   \n",
       "\n",
       "                                      geometry  \n",
       "0  POINT (913523.7852251232 123479.0677957535)  \n",
       "1  POINT (913553.9593760371 123788.9185403585)  "
      ]
     },
     "execution_count": 92,
     "metadata": {
      "tags": []
     },
     "output_type": "execute_result"
    }
   ],
   "source": [
    "# all num_* fields are filled with 0\n",
    "intersections.head(2)"
   ]
  },
  {
   "cell_type": "code",
   "execution_count": 0,
   "metadata": {
    "colab": {},
    "colab_type": "code",
    "id": "AjT2vMv3WBQv"
   },
   "outputs": [],
   "source": [
    "# sum corresponding fields\n",
    "intersections['Num_Collisions'] = intersections.FREQUENCY + intersections.FREQUENCY_ + intersections.FREQUENCY1\n",
    "intersections['Num_Injuries'] = intersections.SUM_NUMBER + intersections.SUM_NUMB_2 + intersections.SUM_NUMB_4\n",
    "intersections['Num_Fatalities'] = intersections.SUM_NUMB_1 + intersections.SUM_NUMB_3 + intersections.SUM_NUMB_5"
   ]
  },
  {
   "cell_type": "code",
   "execution_count": 0,
   "metadata": {
    "colab": {},
    "colab_type": "code",
    "id": "TzblaGh_WBQz"
   },
   "outputs": [],
   "source": [
    "# don't want to look at virtual intersections\n",
    "intersections = intersections[intersections.VIntersect != 'VirtualIntersection'].reset_index(drop=True)"
   ]
  },
  {
   "cell_type": "code",
   "execution_count": 0,
   "metadata": {
    "colab": {},
    "colab_type": "code",
    "id": "Ul41tdvTWBQ1"
   },
   "outputs": [],
   "source": [
    "intersections[['NODEID', 'VIntersect', 'Num_Collisions', 'Num_Injuries',\n",
    "       'Num_Fatalities','geometry']].to_file('../Data/intersections_updated/intersections.shp')"
   ]
  },
  {
   "cell_type": "markdown",
   "metadata": {
    "colab_type": "text",
    "id": "m4C8akmKWBQ4"
   },
   "source": [
    "## Summary Statistics"
   ]
  },
  {
   "cell_type": "code",
   "execution_count": 0,
   "metadata": {
    "colab": {},
    "colab_type": "code",
    "id": "NsO9mFlVWBQ4"
   },
   "outputs": [],
   "source": [
    "collisions = gp.read_file('../Data/collisions/collisions.shp')"
   ]
  },
  {
   "cell_type": "code",
   "execution_count": 0,
   "metadata": {
    "colab": {},
    "colab_type": "code",
    "id": "owIH76E4WBQ6",
    "outputId": "007d16fa-068f-43a7-8a75-a77bb02b9c60"
   },
   "outputs": [
    {
     "name": "stdout",
     "output_type": "stream",
     "text": [
      "61898 11270\n"
     ]
    }
   ],
   "source": [
    "# number of accidents at intersections vs on road\n",
    "at_intersection = collisions.close_to_i.sum()\n",
    "on_roads = len(collisions) - at_intersection\n",
    "\n",
    "print(at_intersection, on_roads)"
   ]
  },
  {
   "cell_type": "code",
   "execution_count": 0,
   "metadata": {
    "colab": {},
    "colab_type": "code",
    "id": "_ae05uFvWBQ9",
    "outputId": "84677759-7b08-49eb-b22e-d4cba48c2fc6"
   },
   "outputs": [
    {
     "name": "stdout",
     "output_type": "stream",
     "text": [
      "37334 20606\n"
     ]
    }
   ],
   "source": [
    "# number of intersections with collisions\n",
    "with_collisions = intersections[intersections.Num_Collisions > 0].FREQUENCY.count()\n",
    "without_collision = len(intersections) - with_collisions\n",
    "\n",
    "print( without_collision, with_collisions)"
   ]
  },
  {
   "cell_type": "code",
   "execution_count": 0,
   "metadata": {
    "colab": {},
    "colab_type": "code",
    "id": "gCtO1PiSWBRA",
    "outputId": "291a95c1-1807-4310-c854-686d7611349e"
   },
   "outputs": [
    {
     "data": {
      "image/png": "[encoded data removed]",
      "text/plain": [
       "<Figure size 864x432 with 2 Axes>"
      ]
     },
     "metadata": {
      "tags": []
     },
     "output_type": "display_data"
    }
   ],
   "source": [
    "fig = plt.figure(figsize=(12,6))\n",
    "size = 0.5\n",
    "def func(pct, allvals):\n",
    "    absolute = int(pct/100.*np.sum(allvals))\n",
    "    return \"{:d}\\n{:1.1f}%\".format(absolute, pct)\n",
    "\n",
    "#intersection vs on road\n",
    "ax = plt.subplot(121)\n",
    "size = 0.5\n",
    "vals = np.array([at_intersection, on_roads])\n",
    "\n",
    "cmap = plt.get_cmap(\"tab20c\")\n",
    "inner_colors = cmap(np.array([1, 3]))\n",
    "labels=['Within 100 ft. of Intersection', 'Along Road']\n",
    "ax.pie(vals, radius=1, colors=inner_colors,\n",
    "       wedgeprops=dict(width=size, edgecolor='w'), autopct=lambda pct: func(pct,vals), labels=labels)\n",
    "ax.set(aspect=\"equal\", title='Collision locations')\n",
    "\n",
    "\n",
    "#collision vs no collision\n",
    "ax = plt.subplot(122)\n",
    "size = 0.5\n",
    "vals = np.array([without_collision, with_collisions])\n",
    "\n",
    "cmap = plt.get_cmap(\"tab20c\")\n",
    "inner_colors = cmap(np.array([8, 10]))\n",
    "labels=['No Collisions','Collision Occured']\n",
    "ax.pie(vals, radius=1, colors=inner_colors,\n",
    "       wedgeprops=dict(width=size, edgecolor='w'), autopct=lambda pct: func(pct,vals), labels=labels)\n",
    "ax.set(aspect=\"equal\", title='Intersection Breakdown')\n",
    "# ax.legend()\n",
    "plt.tight_layout()\n",
    "plt.savefig('Output tables/piecharts.png')"
   ]
  },
  {
   "cell_type": "code",
   "execution_count": 0,
   "metadata": {
    "colab": {},
    "colab_type": "code",
    "id": "IDrAeMYOWBRD",
    "outputId": "d9c52f36-e9ea-46f8-b3ad-e047e8714fbd"
   },
   "outputs": [
    {
     "data": {
      "image/png": "[encoded data removed]",
      "text/plain": [
       "<Figure size 432x432 with 1 Axes>"
      ]
     },
     "metadata": {
      "needs_background": "light",
      "tags": []
     },
     "output_type": "display_data"
    },
    {
     "data": {
      "text/plain": [
       "<Figure size 432x288 with 0 Axes>"
      ]
     },
     "metadata": {
      "tags": []
     },
     "output_type": "display_data"
    }
   ],
   "source": [
    "## number of injuries, number of deaths, number of collisions\n",
    "plt.figure(figsize=(6,6))\n",
    "labels=['Number of Fatalities', 'Number of Injuries', 'Number of Collisions']\n",
    "plt.title('Collision Results')\n",
    "vals = np.array([intersections.Num_Fatalities.sum(),intersections.Num_Injuries.sum(),intersections.Num_Collisions.sum()])\n",
    "plt.barh(range(3), vals, color=cmap(np.arange(3)*4+1), edgecolor='k')\n",
    "# plt.legend()\n",
    "plt.yticks(range(3), labels)\n",
    "plt.show()\n",
    "plt.savefig('Output tables/Injury_Fatality_Counts.png')"
   ]
  },
  {
   "cell_type": "code",
   "execution_count": 0,
   "metadata": {
    "colab": {},
    "colab_type": "code",
    "id": "eOFcbW1bWBRG",
    "outputId": "04588b54-2bab-40a6-9a66-8d89916a2065"
   },
   "outputs": [
    {
     "data": {
      "image/png": "[encoded data removed]",
      "text/plain": [
       "<Figure size 720x432 with 1 Axes>"
      ]
     },
     "metadata": {
      "needs_background": "light",
      "tags": []
     },
     "output_type": "display_data"
    },
    {
     "data": {
      "text/plain": [
       "<Figure size 432x288 with 0 Axes>"
      ]
     },
     "metadata": {
      "tags": []
     },
     "output_type": "display_data"
    }
   ],
   "source": [
    "# look at distribution of collisions at intersections\n",
    "collision_summary = intersections[intersections.Num_Collisions > 0].describe().Num_Collisions\n",
    "mean = collision_summary[1]\n",
    "stddev1, stddev2 = mean-collision_summary[2],mean+collision_summary[2]\n",
    "\n",
    "plt.figure(figsize=(10,6))\n",
    "\n",
    "plt.xlim(1,21)\n",
    "plt.title('Distribution of Collisions (All Intersections With At Least 1 Collision)')\n",
    "\n",
    "plt.hist(intersections[intersections.Num_Collisions > 0].Num_Collisions, bins=40,\n",
    "        alpha=0.7, edgecolor='k', color=cmap(1))\n",
    "\n",
    "# plot mean and standard devs\n",
    "plt.axvline(mean, color='r', label='Mean: {0:.2f}'.format(mean))\n",
    "plt.axvline(stddev1, color='r', linestyle='--', label='Standard Dev: {0:.2f}'.format(collision_summary[2]))\n",
    "plt.axvline(stddev2, color='r', linestyle='--')\n",
    "plt.xticks(range(1,21,4))\n",
    "\n",
    "plt.legend()\n",
    "plt.show()\n",
    "plt.savefig('Output tables/CollisionDist.png')"
   ]
  }
 ],
 "metadata": {
  "colab": {
   "name": "collisions_per_intersection.ipynb",
   "provenance": [],
   "version": "0.3.2"
  },
  "kernelspec": {
   "display_name": "Python 3",
   "language": "python",
   "name": "python3"
  },
  "language_info": {
   "codemirror_mode": {
    "name": "ipython",
    "version": 3
   },
   "file_extension": ".py",
   "mimetype": "text/x-python",
   "name": "python",
   "nbconvert_exporter": "python",
   "pygments_lexer": "ipython3",
   "version": "3.6.8"
  }
 },
 "nbformat": 4,
 "nbformat_minor": 1
}
